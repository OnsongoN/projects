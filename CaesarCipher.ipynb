{
 "cells": [
  {
   "cell_type": "code",
   "execution_count": 1,
   "id": "2929980f",
   "metadata": {},
   "outputs": [
    {
     "name": "stdout",
     "output_type": "stream",
     "text": [
      "Enter the text to encrypt: after graduation, I want to work as a data engineer\n",
      "Enter the shift value: 2\n",
      "The encrypted text is: chvgt itcfwcvkqp, I ycpv vq yqtm cu c fcvc gpikpggt\n",
      "The decrypted text is: after graduation, I want to work as a data engineer\n"
     ]
    }
   ],
   "source": [
    "def caesar_cipher(text, shift):\n",
    "  \"\"\"Encrypts or decrypts text using the Caesar cipher.\n",
    "\n",
    "  Args:\n",
    "    text: The text to encrypt or decrypt.\n",
    "    shift: The number of positions to shift the letters.\n",
    "\n",
    "  Returns:\n",
    "    The encrypted or decrypted text.\n",
    "  \"\"\"\n",
    "\n",
    "  alphabet = \"abcdefghijklmnopqrstuvwxyz\"\n",
    "  encrypted_text = \"\"\n",
    "\n",
    "  for letter in text:\n",
    "    if letter in alphabet:\n",
    "      new_position = (alphabet.index(letter) + shift) % 26\n",
    "      encrypted_text += alphabet[new_position]\n",
    "    else:\n",
    "      encrypted_text += letter\n",
    "\n",
    "  return encrypted_text\n",
    "\n",
    "\n",
    "def main():\n",
    "  text = input(\"Enter the text to encrypt: \")\n",
    "  shift = int(input(\"Enter the shift value: \"))\n",
    "\n",
    "  encrypted_text = caesar_cipher(text, shift)\n",
    "  print(\"The encrypted text is:\", encrypted_text)\n",
    "\n",
    "  decrypted_text = caesar_cipher(encrypted_text, -shift)\n",
    "  print(\"The decrypted text is:\", decrypted_text)\n",
    "\n",
    "\n",
    "if __name__ == \"__main__\":\n",
    "  main()"
   ]
  },
  {
   "cell_type": "code",
   "execution_count": 2,
   "id": "6397a442",
   "metadata": {},
   "outputs": [
    {
     "data": {
      "text/plain": [
       "1"
      ]
     },
     "execution_count": 2,
     "metadata": {},
     "output_type": "execute_result"
    }
   ],
   "source": [
    "7%3"
   ]
  },
  {
   "cell_type": "code",
   "execution_count": null,
   "id": "02bef6b6",
   "metadata": {},
   "outputs": [],
   "source": [
    "#IT Department data privacy protection by use of encryption and decreption of messages by use the of Caesar Cipher Technique\n",
    "def encrypt(text,s):\n",
    "    result = \" \"\n",
    "\n",
    "    # traverse text\n",
    "    for i in range(len(text)):\n",
    "        char = text [i]\n",
    "\n",
    "        # Encrypt uppercase characters\n",
    "        if (char.isupper( )):\n",
    "            result += chr(( ord(char) + s - 65) % 26 + 65)\n",
    "\n",
    "        # Encrypt lowercase characters\n",
    "        else:\n",
    "            result += chr((ord(char) + s - 97) % 26 + 97)\n",
    "\n",
    "    return result\n",
    "\n",
    "#Display the above function\n",
    "text = \"THE QUICK BROWN FOX JUMPS OVER tHE LAZYDOG \"\n",
    "s = -3\n",
    "print (\"Text  : \" + text)\n",
    "print (\"Shift : \" + str(s))\n",
    "print (\"Cipher: \" + encrypt(text,s))"
   ]
  }
 ],
 "metadata": {
  "kernelspec": {
   "display_name": "Python 3 (ipykernel)",
   "language": "python",
   "name": "python3"
  },
  "language_info": {
   "codemirror_mode": {
    "name": "ipython",
    "version": 3
   },
   "file_extension": ".py",
   "mimetype": "text/x-python",
   "name": "python",
   "nbconvert_exporter": "python",
   "pygments_lexer": "ipython3",
   "version": "3.9.13"
  }
 },
 "nbformat": 4,
 "nbformat_minor": 5
}
