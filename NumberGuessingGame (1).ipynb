{
 "cells": [
  {
   "cell_type": "code",
   "execution_count": null,
   "id": "f26b869b",
   "metadata": {},
   "outputs": [
    {
     "name": "stdout",
     "output_type": "stream",
     "text": [
      "Guess a number between 1 and 15: 4\n",
      "Wrong guess. Try again! The correct number is:  12\n"
     ]
    }
   ],
   "source": [
    "import random\n",
    "\n",
    "\n",
    "def number_guessing_game():\n",
    "  \"\"\"\n",
    "  Plays a number guessing game.\n",
    "\n",
    "  Returns:\n",
    "    True if the player guessed the number, False otherwise.\n",
    "  \"\"\"\n",
    "\n",
    "  # Generate a random number between 1 and 15.\n",
    "  random_number = random.randint(1, 15)\n",
    "\n",
    "  # Prompt the user to guess the number.\n",
    "  guess = int(input(\"Guess a number between 1 and 15: \"))\n",
    "\n",
    "  # Check the user's guess.\n",
    "  if guess == random_number:\n",
    "    return True\n",
    "  else:\n",
    "    print(\"Wrong guess. Try again! The correct number is: \", random_number)\n",
    "    return False\n",
    "\n",
    "\n",
    "def main():\n",
    "  \"\"\"\n",
    "  Plays the guessing game until the player guesses the random number correctly.\n",
    "  \"\"\"\n",
    "\n",
    "  guessed_correctly = False\n",
    "  while not guessed_correctly:\n",
    "    guessed_correctly = number_guessing_game()\n",
    "\n",
    "  if guessed_correctly:\n",
    "    print(\"Congratulations! You guessed the correct random number.\")\n",
    "  else:\n",
    "    print(\"Sorry, you didn't guess the correct number.\")\n",
    "\n",
    "\n",
    "if __name__ == \"__main__\":\n",
    "  main()"
   ]
  },
  {
   "cell_type": "code",
   "execution_count": 1,
   "id": "e80d4a43",
   "metadata": {},
   "outputs": [
    {
     "name": "stdout",
     "output_type": "stream",
     "text": [
      "Guess a number between 1 and 15: 4\n",
      "Congratulations! You guessed the correct number: 4\n"
     ]
    }
   ],
   "source": [
    "import random\n",
    "\n",
    "def number_guessing_game():\n",
    "    random_number = random.randint(1, 15)\n",
    "    \n",
    "    while True:\n",
    "        guess = int(input(\"Guess a number between 1 and 15: \"))\n",
    "        \n",
    "        if guess == random_number:\n",
    "            print(\"Congratulations! You guessed the correct number:\", random_number)\n",
    "            break\n",
    "        else:\n",
    "            print(\"Wrong guess, try again! The correct number is: \", random_number)\n",
    "\n",
    "number_guessing_game()"
   ]
  },
  {
   "cell_type": "markdown",
   "id": "ebb642e5",
   "metadata": {},
   "source": []
  }
 ],
 "metadata": {
  "kernelspec": {
   "display_name": "Python 3 (ipykernel)",
   "language": "python",
   "name": "python3"
  },
  "language_info": {
   "codemirror_mode": {
    "name": "ipython",
    "version": 3
   },
   "file_extension": ".py",
   "mimetype": "text/x-python",
   "name": "python",
   "nbconvert_exporter": "python",
   "pygments_lexer": "ipython3",
   "version": "3.9.13"
  }
 },
 "nbformat": 4,
 "nbformat_minor": 5
}
