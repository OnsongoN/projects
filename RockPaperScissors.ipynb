{
 "cells": [
  {
   "cell_type": "markdown",
   "id": "9b74d4d9-1701-4f2f-87c9-31b1d901eecb",
   "metadata": {},
   "source": [
    "### Build a virtual program that immitate the exact functionality of the popular game `ROCK`, `PAPER` and `Scissors` that can be played with the computer.\n",
    "* ### `Rock` Crushes `Scissors`\n",
    "* ### `Scissors` Cuts `Paper`\n",
    "* ### `Paper` Wraps `Rock`"
   ]
  },
  {
   "cell_type": "code",
   "execution_count": 8,
   "id": "d7dc18d9-c57d-4e79-b9ed-67866de8048b",
   "metadata": {
    "tags": []
   },
   "outputs": [],
   "source": [
    "rock = '''\n",
    "    _______\n",
    "---'   ____)\n",
    "      (_____)\n",
    "      (_____)\n",
    "      (____)\n",
    "---.__(___)\n",
    "'''\n",
    "\n",
    "paper = '''\n",
    "    _______\n",
    "---'   ____)____\n",
    "          ______)\n",
    "          _______)\n",
    "         _______)\n",
    "---.__________)\n",
    "'''\n",
    "\n",
    "scissors = '''\n",
    "    _______\n",
    "---'   ____)____\n",
    "          ______)\n",
    "       __________)\n",
    "      (____)\n",
    "---.__(___)\n",
    "'''\n",
    "game_basket = [ rock, paper, scissors]"
   ]
  },
  {
   "cell_type": "code",
   "execution_count": 17,
   "id": "1b651005",
   "metadata": {},
   "outputs": [],
   "source": [
    "import random"
   ]
  },
  {
   "cell_type": "code",
   "execution_count": 70,
   "id": "bc12c476",
   "metadata": {
    "scrolled": true
   },
   "outputs": [
    {
     "name": "stdout",
     "output_type": "stream",
     "text": [
      "what do you want to choose? Type 0 for rock, 1 for paper, or 2 for scissors:2\n",
      "You chose:\n",
      "    _______\n",
      "---'   ____)____\n",
      "          ______)\n",
      "       __________)\n",
      "      (____)\n",
      "---.__(___)\n",
      "\n",
      "The computer choice is:\n",
      "    _______\n",
      "---'   ____)____\n",
      "          ______)\n",
      "       __________)\n",
      "      (____)\n",
      "---.__(___)\n",
      "\n",
      "A Draw!\n"
     ]
    }
   ],
   "source": [
    "user_choice = int(input('what do you want to choose? Type 0 for rock, 1 for paper, or 2 for scissors:'))\n",
    "\n",
    "computer_choice = random.randint(0,2) \n",
    "\n",
    "if user_choice >= 0 and user_choice < 3:\n",
    "    print(f'You chose:{game_basket[user_choice]}')\n",
    "    print(f'The computer choice is:{game_basket[computer_choice]}')\n",
    "    \n",
    "    if user_choice == 0 and computer_choice == 2:\n",
    "        print('You Win!')\n",
    "    elif computer_choice == 0 and user_choice == 2:\n",
    "        print('You Lose!')\n",
    "    elif user_choice > computer_choice:\n",
    "        print('You Win!')\n",
    "    elif computer_choice > user_choice:\n",
    "        print('You Lose!')\n",
    "    else:\n",
    "        print('A Draw!')\n",
    "        \n",
    "else:\n",
    "    print('invalid choice, you lose')"
   ]
  },
  {
   "cell_type": "code",
   "execution_count": 7,
   "id": "42dc299f",
   "metadata": {},
   "outputs": [
    {
     "name": "stdout",
     "output_type": "stream",
     "text": [
      "2\n"
     ]
    }
   ],
   "source": [
    "def food():\n",
    "    try:\n",
    "        return 1\n",
    "    finally:\n",
    "        return 2\n",
    "r = food()\n",
    "print(food())"
   ]
  },
  {
   "cell_type": "code",
   "execution_count": 3,
   "id": "f8aa68f0",
   "metadata": {},
   "outputs": [
    {
     "data": {
      "text/plain": [
       "False"
      ]
     },
     "execution_count": 3,
     "metadata": {},
     "output_type": "execute_result"
    }
   ],
   "source": [
    "min(max(False,-1,-4),2,7)"
   ]
  },
  {
   "cell_type": "code",
   "execution_count": null,
   "id": "4877654d",
   "metadata": {},
   "outputs": [],
   "source": []
  }
 ],
 "metadata": {
  "kernelspec": {
   "display_name": "Python 3 (ipykernel)",
   "language": "python",
   "name": "python3"
  },
  "language_info": {
   "codemirror_mode": {
    "name": "ipython",
    "version": 3
   },
   "file_extension": ".py",
   "mimetype": "text/x-python",
   "name": "python",
   "nbconvert_exporter": "python",
   "pygments_lexer": "ipython3",
   "version": "3.9.13"
  }
 },
 "nbformat": 4,
 "nbformat_minor": 5
}
