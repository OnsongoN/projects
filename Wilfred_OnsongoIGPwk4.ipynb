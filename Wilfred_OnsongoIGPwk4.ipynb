{
 "cells": [
  {
   "cell_type": "markdown",
   "id": "752567d8",
   "metadata": {},
   "source": [
    "# Individual Guided Project Week 4"
   ]
  },
  {
   "cell_type": "code",
   "execution_count": 1,
   "id": "ca9dab92",
   "metadata": {},
   "outputs": [],
   "source": [
    "#import and lias pandas as np and numpy as np\n",
    "import pandas as pd\n",
    "import numpy as np"
   ]
  },
  {
   "cell_type": "markdown",
   "id": "000521b4",
   "metadata": {},
   "source": [
    "## Step 1: Creating a DataFrame from a list of dictionaries"
   ]
  },
  {
   "cell_type": "code",
   "execution_count": 2,
   "id": "7d6de55e",
   "metadata": {},
   "outputs": [],
   "source": [
    "#sample dataset consisting of a list of dictionaries\n",
    "data = [{'product_id':23,'name':'computer','wholesale_price':500,'retail_price':1000,'sales':100},\n",
    "       {'product_id':96,'name':'python_workout','wholesale_price':35,'retail_price':75,'sales':1000},\n",
    "       {'product_id':97,'name':'pandas_workout','wholesale_price':35,'retail_price':75,'sales':500},\n",
    "       {'product_id':15,'name':'banana','wholesale_price':0.5,'retail_price':1,'sales':200},\n",
    "       {'product_id':87,'name':'sandwich','wholesale_price':3,'retail_price':5,'sales':300}]"
   ]
  },
  {
   "cell_type": "code",
   "execution_count": 4,
   "id": "44a503e7",
   "metadata": {},
   "outputs": [
    {
     "data": {
      "text/html": [
       "<div>\n",
       "<style scoped>\n",
       "    .dataframe tbody tr th:only-of-type {\n",
       "        vertical-align: middle;\n",
       "    }\n",
       "\n",
       "    .dataframe tbody tr th {\n",
       "        vertical-align: top;\n",
       "    }\n",
       "\n",
       "    .dataframe thead th {\n",
       "        text-align: right;\n",
       "    }\n",
       "</style>\n",
       "<table border=\"1\" class=\"dataframe\">\n",
       "  <thead>\n",
       "    <tr style=\"text-align: right;\">\n",
       "      <th></th>\n",
       "      <th>product_id</th>\n",
       "      <th>name</th>\n",
       "      <th>wholesale_price</th>\n",
       "      <th>retail_price</th>\n",
       "      <th>sales</th>\n",
       "    </tr>\n",
       "  </thead>\n",
       "  <tbody>\n",
       "    <tr>\n",
       "      <th>0</th>\n",
       "      <td>23</td>\n",
       "      <td>computer</td>\n",
       "      <td>500.0</td>\n",
       "      <td>1000</td>\n",
       "      <td>100</td>\n",
       "    </tr>\n",
       "    <tr>\n",
       "      <th>1</th>\n",
       "      <td>96</td>\n",
       "      <td>python_workout</td>\n",
       "      <td>35.0</td>\n",
       "      <td>75</td>\n",
       "      <td>1000</td>\n",
       "    </tr>\n",
       "    <tr>\n",
       "      <th>2</th>\n",
       "      <td>97</td>\n",
       "      <td>pandas_workout</td>\n",
       "      <td>35.0</td>\n",
       "      <td>75</td>\n",
       "      <td>500</td>\n",
       "    </tr>\n",
       "    <tr>\n",
       "      <th>3</th>\n",
       "      <td>15</td>\n",
       "      <td>banana</td>\n",
       "      <td>0.5</td>\n",
       "      <td>1</td>\n",
       "      <td>200</td>\n",
       "    </tr>\n",
       "    <tr>\n",
       "      <th>4</th>\n",
       "      <td>87</td>\n",
       "      <td>sandwich</td>\n",
       "      <td>3.0</td>\n",
       "      <td>5</td>\n",
       "      <td>300</td>\n",
       "    </tr>\n",
       "  </tbody>\n",
       "</table>\n",
       "</div>"
      ],
      "text/plain": [
       "   product_id            name  wholesale_price  retail_price  sales\n",
       "0          23        computer            500.0          1000    100\n",
       "1          96  python_workout             35.0            75   1000\n",
       "2          97  pandas_workout             35.0            75    500\n",
       "3          15          banana              0.5             1    200\n",
       "4          87        sandwich              3.0             5    300"
      ]
     },
     "execution_count": 4,
     "metadata": {},
     "output_type": "execute_result"
    }
   ],
   "source": [
    "#creating a dataframe from the data\n",
    "sales_data = pd.DataFrame(data)\n",
    "sales_data"
   ]
  },
  {
   "cell_type": "markdown",
   "id": "a1a2c244",
   "metadata": {},
   "source": [
    "## Step 2: Calculate total profit for each product using the formula;\n",
    "> net_revenue_per_product = (retail_price - wholesale_price)* sales"
   ]
  },
  {
   "cell_type": "code",
   "execution_count": 9,
   "id": "ffc6467e",
   "metadata": {},
   "outputs": [
    {
     "name": "stdout",
     "output_type": "stream",
     "text": [
      "             name  net_revenue\n",
      "0          banana        100.0\n",
      "1        computer      50000.0\n",
      "2  pandas_workout      20000.0\n",
      "3  python_workout      40000.0\n",
      "4        sandwich        600.0\n"
     ]
    }
   ],
   "source": [
    "# creating a net revenue column\n",
    "sales_data['net_revenue'] = (sales_data['retail_price'] - sales_data['wholesale_price']) * sales_data['sales']\n",
    "\n",
    "# calculating net product for each product\n",
    "net_revenue_per_product = sales_data.groupby('name')['net_revenue'].sum().reset_index()\n",
    "print(net_revenue_per_product)"
   ]
  },
  {
   "cell_type": "markdown",
   "id": "bd887cd7",
   "metadata": {},
   "source": [
    "## Step 3: Determine the following\n",
    "\n",
    "### [i]: Total Revenue from all sales"
   ]
  },
  {
   "cell_type": "code",
   "execution_count": 15,
   "id": "ee51bba6",
   "metadata": {},
   "outputs": [
    {
     "name": "stdout",
     "output_type": "stream",
     "text": [
      "The total revenue from all sales was: $110,700.0\n"
     ]
    }
   ],
   "source": [
    "#calculating total revenue from all sales\n",
    "total_revenue = sum(sales_data['net_revenue'])\n",
    "print(f'The total revenue from all sales was: {total_revenue:,}')"
   ]
  },
  {
   "cell_type": "markdown",
   "id": "7b1477f7",
   "metadata": {},
   "source": [
    "### [ii]: Product whose retail price is more than twice its wholesale price"
   ]
  },
  {
   "cell_type": "code",
   "execution_count": 19,
   "id": "c5f81484",
   "metadata": {},
   "outputs": [
    {
     "data": {
      "text/html": [
       "<div>\n",
       "<style scoped>\n",
       "    .dataframe tbody tr th:only-of-type {\n",
       "        vertical-align: middle;\n",
       "    }\n",
       "\n",
       "    .dataframe tbody tr th {\n",
       "        vertical-align: top;\n",
       "    }\n",
       "\n",
       "    .dataframe thead th {\n",
       "        text-align: right;\n",
       "    }\n",
       "</style>\n",
       "<table border=\"1\" class=\"dataframe\">\n",
       "  <thead>\n",
       "    <tr style=\"text-align: right;\">\n",
       "      <th></th>\n",
       "      <th>product_id</th>\n",
       "      <th>name</th>\n",
       "      <th>wholesale_price</th>\n",
       "      <th>retail_price</th>\n",
       "      <th>sales</th>\n",
       "      <th>net_revenue</th>\n",
       "    </tr>\n",
       "  </thead>\n",
       "  <tbody>\n",
       "    <tr>\n",
       "      <th>1</th>\n",
       "      <td>96</td>\n",
       "      <td>python_workout</td>\n",
       "      <td>35.0</td>\n",
       "      <td>75</td>\n",
       "      <td>1000</td>\n",
       "      <td>40000.0</td>\n",
       "    </tr>\n",
       "    <tr>\n",
       "      <th>2</th>\n",
       "      <td>97</td>\n",
       "      <td>pandas_workout</td>\n",
       "      <td>35.0</td>\n",
       "      <td>75</td>\n",
       "      <td>500</td>\n",
       "      <td>20000.0</td>\n",
       "    </tr>\n",
       "  </tbody>\n",
       "</table>\n",
       "</div>"
      ],
      "text/plain": [
       "   product_id            name  wholesale_price  retail_price  sales  \\\n",
       "1          96  python_workout             35.0            75   1000   \n",
       "2          97  pandas_workout             35.0            75    500   \n",
       "\n",
       "   net_revenue  \n",
       "1      40000.0  \n",
       "2      20000.0  "
      ]
     },
     "execution_count": 19,
     "metadata": {},
     "output_type": "execute_result"
    }
   ],
   "source": [
    "# determining products whose retail price is more than twice the wholesale price\n",
    "sales_data.loc[sales_data['retail_price'] > 2 * sales_data['wholesale_price']]"
   ]
  },
  {
   "cell_type": "markdown",
   "id": "42a4655f",
   "metadata": {},
   "source": [
    "### [iii]: How much the store made from food vs. computer vs. books"
   ]
  },
  {
   "cell_type": "code",
   "execution_count": 38,
   "id": "99400135",
   "metadata": {},
   "outputs": [
    {
     "name": "stdout",
     "output_type": "stream",
     "text": [
      "The store made 700.0 Food Revenue Vs. 50,000.0 Computer Revenue Vs. 60,000.0 Book Revenue\n"
     ]
    }
   ],
   "source": [
    "# determining food revenue vs. computer revenue vs books revenue\n",
    "\n",
    "# Define a function to categorize products\n",
    "def categorize_product(name):\n",
    "  if name in ['banana', 'sandwich']:\n",
    "    return 'food'\n",
    "  elif name in ['python_workout', 'pandas_workout']:\n",
    "    return 'book'\n",
    "  else:\n",
    "    return 'computer'\n",
    "\n",
    "# Add a new column called 'category'\n",
    "sales_data['category'] = sales_data['name'].apply(categorize_product)\n",
    "\n",
    "#filter products by categories and find their total revenues\n",
    "\n",
    "filtered_food = sales_data[sales_data['category'] == 'food']\n",
    "food_revenue = filtered_food['net_revenue'].sum()\n",
    "\n",
    "filtered_book = sales_data[sales_data['category'] == 'book']\n",
    "book_revenue = filtered_book['net_revenue'].sum()\n",
    "\n",
    "filtered_computer = sales_data[sales_data['category'] == 'computer']\n",
    "computer_revenue = filtered_computer['net_revenue'].sum()\n",
    "\n",
    "print(f'The store made {food_revenue:,} Food Revenue Vs. {computer_revenue:,} Computer Revenue Vs. {book_revenue:,} Book Revenue')"
   ]
  },
  {
   "cell_type": "markdown",
   "id": "ee1fd62d",
   "metadata": {},
   "source": [
    "### [iv]: New net revenue after a 30% discount on wholesale price"
   ]
  },
  {
   "cell_type": "code",
   "execution_count": 44,
   "id": "2dc32ece",
   "metadata": {},
   "outputs": [
    {
     "name": "stdout",
     "output_type": "stream",
     "text": [
      "The new total net revenue after a 30% discount on wholesale prices is: 141,750.0\n"
     ]
    }
   ],
   "source": [
    "#calculate new net revenue after a 30% discount on wholesale price\n",
    "\n",
    "sales_data['new_net_revenue'] =(sales_data['retail_price'] - ((sales_data['wholesale_price'])*0.7))*sales_data['sales']\n",
    "new_total_net_revenue =sum(sales_data['new_net_revenue'])\n",
    "print(f'The new total net revenue after a 30% discount on wholesale prices is: {new_total_net_revenue:,}')"
   ]
  },
  {
   "cell_type": "markdown",
   "id": "958b750c",
   "metadata": {},
   "source": [
    "### [v]: Tax deductions at various tax percentages"
   ]
  },
  {
   "cell_type": "code",
   "execution_count": 58,
   "id": "ba4cb29e",
   "metadata": {},
   "outputs": [
    {
     "name": "stdout",
     "output_type": "stream",
     "text": [
      "the store would net 21,262.5 less at a 15% tax rate \n",
      " the store would net 28,350.0 less at a 20% tax rate \n",
      " the store would net 35,437.5 less at a 25% tax rate\n"
     ]
    }
   ],
   "source": [
    "#Renaming the new_net_revenue column to current_revenue\n",
    "sales_data.rename(columns={'new_net_revenue': 'current_revenue'}, inplace=True)\n",
    "\n",
    "#adding new columns to the dataframe to calculate new net revenues after the various tax %s\n",
    "sales_data['net_rev_after_15%tax'] = .85 * sales_data['current_revenue']\n",
    "\n",
    "sales_data['net_rev_after_20%tax'] = .8 * sales_data['current_revenue']\n",
    "\n",
    "sales_data['net_rev_after_25%tax'] = .75 * sales_data['current_revenue']\n",
    "\n",
    "#net tax deductions at various %s\n",
    "tax_15per_deductions = sum(sales_data['current_revenue'] - sales_data['net_rev_after_15%tax'])\n",
    "\n",
    "tax_20per_deductions = sum(sales_data['current_revenue'] - sales_data['net_rev_after_20%tax'])\n",
    "\n",
    "tax_25per_deductions = sum(sales_data['current_revenue'] - sales_data['net_rev_after_25%tax'])\n",
    "\n",
    "print(f'the store would net {tax_15per_deductions:,} less at a 15% tax rate \\n the store would net {tax_20per_deductions:,} less at a 20% tax rate \\n the store would net {tax_25per_deductions:,} less at a 25% tax rate')\n"
   ]
  },
  {
   "cell_type": "code",
   "execution_count": null,
   "id": "629909a2",
   "metadata": {},
   "outputs": [],
   "source": []
  }
 ],
 "metadata": {
  "kernelspec": {
   "display_name": "Python 3 (ipykernel)",
   "language": "python",
   "name": "python3"
  },
  "language_info": {
   "codemirror_mode": {
    "name": "ipython",
    "version": 3
   },
   "file_extension": ".py",
   "mimetype": "text/x-python",
   "name": "python",
   "nbconvert_exporter": "python",
   "pygments_lexer": "ipython3",
   "version": "3.9.13"
  }
 },
 "nbformat": 4,
 "nbformat_minor": 5
}
